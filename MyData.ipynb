{
 "cells": [
  {
   "cell_type": "code",
   "execution_count": 64,
   "metadata": {},
   "outputs": [
    {
     "name": "stdout",
     "output_type": "stream",
     "text": [
      "                             time_signature  \\\n",
      "0                                         4   \n",
      "1                                         4   \n",
      "2                                         4   \n",
      "3                                         4   \n",
      "4     .com/v1/tracks/78MI7mu1LV1k4IA2HzKmHe   \n",
      "...                                     ...   \n",
      "3142                                      1   \n",
      "3143                                      4   \n",
      "3144                                      4   \n",
      "3145                                      1   \n",
      "3146                                      4   \n",
      "\n",
      "                                 track_popularity  speechiness  \\\n",
      "0                                              23       0.0393   \n",
      "1                                              53       0.0317   \n",
      "2                                              55       0.0454   \n",
      "3                                              64       0.1010   \n",
      "4     Dream A Little Dream Of Me - Single Version       1.0000   \n",
      "...                                           ...          ...   \n",
      "3142                                           33       0.0634   \n",
      "3143                                           22       0.0656   \n",
      "3144                                           18       0.0671   \n",
      "3145                                           23       0.0813   \n",
      "3146                                           14       0.0598   \n",
      "\n",
      "                              danceability      playlist_name  \\\n",
      "0                                    0.636      Rock Classics   \n",
      "1                                    0.572      Rock Classics   \n",
      "2                                    0.591      Rock Classics   \n",
      "3                                    0.443      Jazz Classics   \n",
      "4     spotify:track:78MI7mu1LV1k4IA2HzKmHe     audio_features   \n",
      "...                                    ...                ...   \n",
      "3142                                 0.352  Carnatic Classics   \n",
      "3143                                 0.471  Carnatic Classics   \n",
      "3144                                 0.436  Carnatic Classics   \n",
      "3145                                 0.489  Carnatic Classics   \n",
      "3146                                  0.27  Carnatic Classics   \n",
      "\n",
      "                                           track_artist  \\\n",
      "0                          Creedence Clearwater Revival   \n",
      "1                                             Van Halen   \n",
      "2                                          Stevie Nicks   \n",
      "3                      Ella Fitzgerald, Louis Armstrong   \n",
      "4                                            2007-05-03   \n",
      "...                                                 ...   \n",
      "3142                                 M. S. Subbulakshmi   \n",
      "3143                                  Jayanthi Kumaresh   \n",
      "3144  Nirmala Rajasekar, Raghavendra Rao, Tanjore K....   \n",
      "3145                                  Ganesh & Kumaresh   \n",
      "3146                                   Sudha Ragunathan   \n",
      "\n",
      "                                            duration_ms  \\\n",
      "0                                                138053   \n",
      "1                                                241600   \n",
      "2                                                329413   \n",
      "3                                                185160   \n",
      "4     https://api.spotify.com/v1/audio-analysis/78MI...   \n",
      "...                                                 ...   \n",
      "3142                                             661293   \n",
      "3143                                             394400   \n",
      "3144                                             473440   \n",
      "3145                                             298987   \n",
      "3146                                             645701   \n",
      "\n",
      "                      energy playlist_genre       playlist_subgenre  ...  \\\n",
      "0                      0.746           rock                 classic  ...   \n",
      "1                      0.835           rock                 classic  ...   \n",
      "2                      0.804           rock                 classic  ...   \n",
      "3                      0.104           jazz                 classic  ...   \n",
      "4     78MI7mu1LV1k4IA2HzKmHe              0  1y5KGkUKO0NG32MhIIagCA  ...   \n",
      "...                      ...            ...                     ...  ...   \n",
      "3142                   0.424         indian               classical  ...   \n",
      "3143                   0.349         indian               classical  ...   \n",
      "3144                   0.595         indian               classical  ...   \n",
      "3145                   0.591         indian               classical  ...   \n",
      "3146                   0.816         indian               classical  ...   \n",
      "\n",
      "              track_album_id             playlist_id                track_id  \\\n",
      "0     4A8gFwqd9jTtnsNwUu3OQx  37i9dQZF1DWXRqgorJj26U  5e6x5YRnMJIKvYpZxLqdpH   \n",
      "1     2c965LEDRNrXXCeBOAAwns  37i9dQZF1DWXRqgorJj26U  5FqYA8KfiwsQvyBI4IamnY   \n",
      "2     3S404OgKoVQSJ3xXrDVlp8  37i9dQZF1DWXRqgorJj26U  5LNiqEqpDc8TuqPy79kDBu   \n",
      "3                        NaN                     NaN                     NaN   \n",
      "4                        NaN                     NaN                     NaN   \n",
      "...                      ...                     ...                     ...   \n",
      "3142  5utDQUWCZCEXWHMmna8C63  3sIB6VOssssCO17VUPu80m  1IkR0OgVI1gydC4S6jnG2B   \n",
      "3143  4kUGwkHXKBbaLwnqTIrg0J  3sIB6VOssssCO17VUPu80m  4ZFM5yFsjEzvZ1XmP27L5r   \n",
      "3144  6FMROVG9PB4nJYmvNLTdge  3sIB6VOssssCO17VUPu80m  5wZQXUcphAyBZfVdWmAiYX   \n",
      "3145  3si4Lr5oBcahJ3D7IPbO4N  3sIB6VOssssCO17VUPu80m  5Ca5l5vDzIOZdVwwWCxAds   \n",
      "3146  2tezom8oCCpSeiriOFeZNi  3sIB6VOssssCO17VUPu80m  0HmenrANrrNVi8244GsYB5   \n",
      "\n",
      "     valence   key    tempo loudness acousticness liveness  \\\n",
      "0      0.432   0.0  132.310   -3.785       0.0648   0.1730   \n",
      "1      0.795   0.0  129.981   -6.219       0.1710   0.0702   \n",
      "2      0.658   0.0  111.457   -7.299       0.3270   0.0818   \n",
      "3        NaN   NaN      NaN      NaN          NaN      NaN   \n",
      "4        NaN   NaN      NaN      NaN          NaN      NaN   \n",
      "...      ...   ...      ...      ...          ...      ...   \n",
      "3142   0.605  10.0   75.466   -8.009       0.9650   0.2420   \n",
      "3143   0.358   8.0  147.193  -16.633       0.9750   0.2860   \n",
      "3144   0.870   3.0  174.308  -11.494       0.8160   0.0939   \n",
      "3145   0.689   8.0  174.760  -10.843       0.9480   0.0770   \n",
      "3146   0.591   8.0  170.938   -3.815       0.8530   0.3170   \n",
      "\n",
      "                                       track_album_name  \n",
      "0     The Long Road Home - The Ultimate John Fogerty...  \n",
      "1                                        The Collection  \n",
      "2                          Bella Donna (Deluxe Edition)  \n",
      "3                                                   NaN  \n",
      "4                                                   NaN  \n",
      "...                                                 ...  \n",
      "3142               Bhaja Govindam - Vishnu Sahasranamam  \n",
      "3143                           Veenai Jayanthi Kumaresh  \n",
      "3144                                      Into the Raga  \n",
      "3145         Thillanas: A Confluence Of Rhythm & Melody  \n",
      "3146  Gems of Carnatic Music: Sudha Raghunathan (Liv...  \n",
      "\n",
      "[3147 rows x 29 columns]\n",
      "                          time_signature  \\\n",
      "0                                      4   \n",
      "1                                      4   \n",
      "2                                      4   \n",
      "3                                      4   \n",
      "4  .com/v1/tracks/78MI7mu1LV1k4IA2HzKmHe   \n",
      "\n",
      "                              track_popularity  speechiness  \\\n",
      "0                                           23       0.0393   \n",
      "1                                           53       0.0317   \n",
      "2                                           55       0.0454   \n",
      "3                                           64       0.1010   \n",
      "4  Dream A Little Dream Of Me - Single Version       1.0000   \n",
      "\n",
      "                           danceability   playlist_name  \\\n",
      "0                                 0.636   Rock Classics   \n",
      "1                                 0.572   Rock Classics   \n",
      "2                                 0.591   Rock Classics   \n",
      "3                                 0.443   Jazz Classics   \n",
      "4  spotify:track:78MI7mu1LV1k4IA2HzKmHe  audio_features   \n",
      "\n",
      "                       track_artist  \\\n",
      "0      Creedence Clearwater Revival   \n",
      "1                         Van Halen   \n",
      "2                      Stevie Nicks   \n",
      "3  Ella Fitzgerald, Louis Armstrong   \n",
      "4                        2007-05-03   \n",
      "\n",
      "                                         duration_ms                  energy  \\\n",
      "0                                             138053                   0.746   \n",
      "1                                             241600                   0.835   \n",
      "2                                             329413                   0.804   \n",
      "3                                             185160                   0.104   \n",
      "4  https://api.spotify.com/v1/audio-analysis/78MI...  78MI7mu1LV1k4IA2HzKmHe   \n",
      "\n",
      "  playlist_genre       playlist_subgenre  ...          track_album_id  \\\n",
      "0           rock                 classic  ...  4A8gFwqd9jTtnsNwUu3OQx   \n",
      "1           rock                 classic  ...  2c965LEDRNrXXCeBOAAwns   \n",
      "2           rock                 classic  ...  3S404OgKoVQSJ3xXrDVlp8   \n",
      "3           jazz                 classic  ...                     NaN   \n",
      "4              0  1y5KGkUKO0NG32MhIIagCA  ...                     NaN   \n",
      "\n",
      "              playlist_id                track_id valence  key    tempo  \\\n",
      "0  37i9dQZF1DWXRqgorJj26U  5e6x5YRnMJIKvYpZxLqdpH   0.432  0.0  132.310   \n",
      "1  37i9dQZF1DWXRqgorJj26U  5FqYA8KfiwsQvyBI4IamnY   0.795  0.0  129.981   \n",
      "2  37i9dQZF1DWXRqgorJj26U  5LNiqEqpDc8TuqPy79kDBu   0.658  0.0  111.457   \n",
      "3                     NaN                     NaN     NaN  NaN      NaN   \n",
      "4                     NaN                     NaN     NaN  NaN      NaN   \n",
      "\n",
      "  loudness acousticness liveness  \\\n",
      "0   -3.785       0.0648   0.1730   \n",
      "1   -6.219       0.1710   0.0702   \n",
      "2   -7.299       0.3270   0.0818   \n",
      "3      NaN          NaN      NaN   \n",
      "4      NaN          NaN      NaN   \n",
      "\n",
      "                                    track_album_name  \n",
      "0  The Long Road Home - The Ultimate John Fogerty...  \n",
      "1                                     The Collection  \n",
      "2                       Bella Donna (Deluxe Edition)  \n",
      "3                                                NaN  \n",
      "4                                                NaN  \n",
      "\n",
      "[5 rows x 29 columns]\n"
     ]
    }
   ],
   "source": [
    "import pandas as pd\n",
    "df = pd.read_csv(r\"F:\\Downloads\\archive\\low_popularity_spotify_data.csv\")\n",
    "print(df)\n",
    "print(df.head())"
   ]
  },
  {
   "cell_type": "markdown",
   "metadata": {},
   "source": []
  },
  {
   "cell_type": "code",
   "execution_count": 65,
   "metadata": {},
   "outputs": [
    {
     "name": "stdout",
     "output_type": "stream",
     "text": [
      "                          time_signature  \\\n",
      "0                                      4   \n",
      "1                                      4   \n",
      "2                                      4   \n",
      "3                                      4   \n",
      "4  .com/v1/tracks/78MI7mu1LV1k4IA2HzKmHe   \n",
      "\n",
      "                              track_popularity  speechiness  \\\n",
      "0                                           23       0.0393   \n",
      "1                                           53       0.0317   \n",
      "2                                           55       0.0454   \n",
      "3                                           64       0.1010   \n",
      "4  Dream A Little Dream Of Me - Single Version       1.0000   \n",
      "\n",
      "                           danceability   playlist_name  \\\n",
      "0                                 0.636   Rock Classics   \n",
      "1                                 0.572   Rock Classics   \n",
      "2                                 0.591   Rock Classics   \n",
      "3                                 0.443   Jazz Classics   \n",
      "4  spotify:track:78MI7mu1LV1k4IA2HzKmHe  audio_features   \n",
      "\n",
      "                       track_artist  \\\n",
      "0      Creedence Clearwater Revival   \n",
      "1                         Van Halen   \n",
      "2                      Stevie Nicks   \n",
      "3  Ella Fitzgerald, Louis Armstrong   \n",
      "4                        2007-05-03   \n",
      "\n",
      "                                         duration_ms                  energy  \\\n",
      "0                                             138053                   0.746   \n",
      "1                                             241600                   0.835   \n",
      "2                                             329413                   0.804   \n",
      "3                                             185160                   0.104   \n",
      "4  https://api.spotify.com/v1/audio-analysis/78MI...  78MI7mu1LV1k4IA2HzKmHe   \n",
      "\n",
      "  playlist_genre       playlist_subgenre  ...          track_album_id  \\\n",
      "0           rock                 classic  ...  4A8gFwqd9jTtnsNwUu3OQx   \n",
      "1           rock                 classic  ...  2c965LEDRNrXXCeBOAAwns   \n",
      "2           rock                 classic  ...  3S404OgKoVQSJ3xXrDVlp8   \n",
      "3           jazz                 classic  ...                     NaN   \n",
      "4              0  1y5KGkUKO0NG32MhIIagCA  ...                     NaN   \n",
      "\n",
      "              playlist_id                track_id valence  key    tempo  \\\n",
      "0  37i9dQZF1DWXRqgorJj26U  5e6x5YRnMJIKvYpZxLqdpH   0.432  0.0  132.310   \n",
      "1  37i9dQZF1DWXRqgorJj26U  5FqYA8KfiwsQvyBI4IamnY   0.795  0.0  129.981   \n",
      "2  37i9dQZF1DWXRqgorJj26U  5LNiqEqpDc8TuqPy79kDBu   0.658  0.0  111.457   \n",
      "3                     NaN                     NaN     NaN  NaN      NaN   \n",
      "4                     NaN                     NaN     NaN  NaN      NaN   \n",
      "\n",
      "  loudness acousticness liveness  \\\n",
      "0   -3.785       0.0648   0.1730   \n",
      "1   -6.219       0.1710   0.0702   \n",
      "2   -7.299       0.3270   0.0818   \n",
      "3      NaN          NaN      NaN   \n",
      "4      NaN          NaN      NaN   \n",
      "\n",
      "                                    track_album_name  \n",
      "0  The Long Road Home - The Ultimate John Fogerty...  \n",
      "1                                     The Collection  \n",
      "2                       Bella Donna (Deluxe Edition)  \n",
      "3                                                NaN  \n",
      "4                                                NaN  \n",
      "\n",
      "[5 rows x 29 columns]\n"
     ]
    }
   ],
   "source": [
    "\n",
    "\n",
    "print(df.head())\n"
   ]
  },
  {
   "cell_type": "markdown",
   "metadata": {},
   "source": []
  },
  {
   "cell_type": "code",
   "execution_count": 66,
   "metadata": {},
   "outputs": [
    {
     "name": "stdout",
     "output_type": "stream",
     "text": [
      "                          time_signature  \\\n",
      "0                                      4   \n",
      "1                                      4   \n",
      "2                                      4   \n",
      "3                                      4   \n",
      "4  .com/v1/tracks/78MI7mu1LV1k4IA2HzKmHe   \n",
      "5  .com/v1/tracks/78MI7mu1LV1k4IA2HzKmHe   \n",
      "6                                      4   \n",
      "7                                      4   \n",
      "8                                      4   \n",
      "9                                      4   \n",
      "\n",
      "                              track_popularity  speechiness  \\\n",
      "0                                           23       0.0393   \n",
      "1                                           53       0.0317   \n",
      "2                                           55       0.0454   \n",
      "3                                           64       0.1010   \n",
      "4  Dream A Little Dream Of Me - Single Version       1.0000   \n",
      "5  Dream A Little Dream Of Me - Single Version       1.0000   \n",
      "6                                           62       0.0298   \n",
      "7                                           61       0.0566   \n",
      "8                                           60       0.0914   \n",
      "9                                           55       0.0373   \n",
      "\n",
      "                           danceability   playlist_name  \\\n",
      "0                                 0.636   Rock Classics   \n",
      "1                                 0.572   Rock Classics   \n",
      "2                                 0.591   Rock Classics   \n",
      "3                                 0.443   Jazz Classics   \n",
      "4  spotify:track:78MI7mu1LV1k4IA2HzKmHe  audio_features   \n",
      "5  spotify:track:78MI7mu1LV1k4IA2HzKmHe  audio_features   \n",
      "6                                 0.685   Jazz Classics   \n",
      "7                                  0.67   Jazz Classics   \n",
      "8                                 0.663   Jazz Classics   \n",
      "9                                 0.525   Jazz Classics   \n",
      "\n",
      "                       track_artist  \\\n",
      "0      Creedence Clearwater Revival   \n",
      "1                         Van Halen   \n",
      "2                      Stevie Nicks   \n",
      "3  Ella Fitzgerald, Louis Armstrong   \n",
      "4                        2007-05-03   \n",
      "5                        2007-05-03   \n",
      "6                    Galt MacDermot   \n",
      "7        Frank Sinatra, Count Basie   \n",
      "8  Ella Fitzgerald, Louis Armstrong   \n",
      "9                     Benny Goodman   \n",
      "\n",
      "                                         duration_ms                  energy  \\\n",
      "0                                             138053                   0.746   \n",
      "1                                             241600                   0.835   \n",
      "2                                             329413                   0.804   \n",
      "3                                             185160                   0.104   \n",
      "4  https://api.spotify.com/v1/audio-analysis/78MI...  78MI7mu1LV1k4IA2HzKmHe   \n",
      "5  https://api.spotify.com/v1/audio-analysis/78MI...  78MI7mu1LV1k4IA2HzKmHe   \n",
      "6                                             205720                   0.472   \n",
      "7                                             147147                   0.365   \n",
      "8                                             354533                   0.264   \n",
      "9                                             195533                   0.222   \n",
      "\n",
      "  playlist_genre       playlist_subgenre  ...          track_album_id  \\\n",
      "0           rock                 classic  ...  4A8gFwqd9jTtnsNwUu3OQx   \n",
      "1           rock                 classic  ...  2c965LEDRNrXXCeBOAAwns   \n",
      "2           rock                 classic  ...  3S404OgKoVQSJ3xXrDVlp8   \n",
      "3           jazz                 classic  ...                     NaN   \n",
      "4              0  1y5KGkUKO0NG32MhIIagCA  ...                     NaN   \n",
      "5              0  1y5KGkUKO0NG32MhIIagCA  ...                     NaN   \n",
      "6           jazz                 classic  ...  6f4b9wVTkKAf096k4XG6x5   \n",
      "7           jazz                 classic  ...  7gmak9ZGm10y4PtZa9SBQn   \n",
      "8           jazz                 classic  ...  2uqlkJu6vckJahCsp6Hfcn   \n",
      "9           jazz                 classic  ...  33oCBSZiLbfqyOnTTQ4Tct   \n",
      "\n",
      "              playlist_id                track_id valence   key    tempo  \\\n",
      "0  37i9dQZF1DWXRqgorJj26U  5e6x5YRnMJIKvYpZxLqdpH   0.432   0.0  132.310   \n",
      "1  37i9dQZF1DWXRqgorJj26U  5FqYA8KfiwsQvyBI4IamnY   0.795   0.0  129.981   \n",
      "2  37i9dQZF1DWXRqgorJj26U  5LNiqEqpDc8TuqPy79kDBu   0.658   0.0  111.457   \n",
      "3                     NaN                     NaN     NaN   NaN      NaN   \n",
      "4                     NaN                     NaN     NaN   NaN      NaN   \n",
      "5                     NaN                     NaN     NaN   NaN      NaN   \n",
      "6  37i9dQZF1DXbITWG1ZJKYt  6MN6yRVriszuyAVlyF8ndB   0.475   9.0   80.487   \n",
      "7  37i9dQZF1DXbITWG1ZJKYt  2dR5WkrpwylTuT3jRWNufa   0.450   0.0  119.347   \n",
      "8  37i9dQZF1DXbITWG1ZJKYt  33jt3kYWjQzqn3xyYQ5ZEh   0.657   0.0  122.482   \n",
      "9  37i9dQZF1DXbITWG1ZJKYt  1xUJ1mdLAysxNBtO9w3J2g   0.645  10.0  156.364   \n",
      "\n",
      "  loudness acousticness liveness  \\\n",
      "0   -3.785       0.0648   0.1730   \n",
      "1   -6.219       0.1710   0.0702   \n",
      "2   -7.299       0.3270   0.0818   \n",
      "3      NaN          NaN      NaN   \n",
      "4      NaN          NaN      NaN   \n",
      "5      NaN          NaN      NaN   \n",
      "6   -9.691       0.7850   0.2240   \n",
      "7  -10.158       0.5250   0.0575   \n",
      "8  -14.571       0.7060   0.1000   \n",
      "9  -11.065       0.8360   0.0510   \n",
      "\n",
      "                                    track_album_name  \n",
      "0  The Long Road Home - The Ultimate John Fogerty...  \n",
      "1                                     The Collection  \n",
      "2                       Bella Donna (Deluxe Edition)  \n",
      "3                                                NaN  \n",
      "4                                                NaN  \n",
      "5                                                NaN  \n",
      "6                  Shapes of Rhythm/Woman Is Sweeter  \n",
      "7                                   Ultimate Sinatra  \n",
      "8               The Complete Ella And Louis On Verve  \n",
      "9                                     B. G. In Hi Fi  \n",
      "\n",
      "[10 rows x 29 columns]\n"
     ]
    }
   ],
   "source": [
    "print(df.head(10))"
   ]
  },
  {
   "cell_type": "code",
   "execution_count": 67,
   "metadata": {},
   "outputs": [
    {
     "name": "stdout",
     "output_type": "stream",
     "text": [
      "     time_signature track_popularity  speechiness danceability  \\\n",
      "3142              1               33       0.0634        0.352   \n",
      "3143              4               22       0.0656        0.471   \n",
      "3144              4               18       0.0671        0.436   \n",
      "3145              1               23       0.0813        0.489   \n",
      "3146              4               14       0.0598         0.27   \n",
      "\n",
      "          playlist_name                                       track_artist  \\\n",
      "3142  Carnatic Classics                                 M. S. Subbulakshmi   \n",
      "3143  Carnatic Classics                                  Jayanthi Kumaresh   \n",
      "3144  Carnatic Classics  Nirmala Rajasekar, Raghavendra Rao, Tanjore K....   \n",
      "3145  Carnatic Classics                                  Ganesh & Kumaresh   \n",
      "3146  Carnatic Classics                                   Sudha Ragunathan   \n",
      "\n",
      "     duration_ms energy playlist_genre playlist_subgenre  ...  \\\n",
      "3142      661293  0.424         indian         classical  ...   \n",
      "3143      394400  0.349         indian         classical  ...   \n",
      "3144      473440  0.595         indian         classical  ...   \n",
      "3145      298987  0.591         indian         classical  ...   \n",
      "3146      645701  0.816         indian         classical  ...   \n",
      "\n",
      "              track_album_id             playlist_id                track_id  \\\n",
      "3142  5utDQUWCZCEXWHMmna8C63  3sIB6VOssssCO17VUPu80m  1IkR0OgVI1gydC4S6jnG2B   \n",
      "3143  4kUGwkHXKBbaLwnqTIrg0J  3sIB6VOssssCO17VUPu80m  4ZFM5yFsjEzvZ1XmP27L5r   \n",
      "3144  6FMROVG9PB4nJYmvNLTdge  3sIB6VOssssCO17VUPu80m  5wZQXUcphAyBZfVdWmAiYX   \n",
      "3145  3si4Lr5oBcahJ3D7IPbO4N  3sIB6VOssssCO17VUPu80m  5Ca5l5vDzIOZdVwwWCxAds   \n",
      "3146  2tezom8oCCpSeiriOFeZNi  3sIB6VOssssCO17VUPu80m  0HmenrANrrNVi8244GsYB5   \n",
      "\n",
      "     valence   key    tempo loudness acousticness liveness  \\\n",
      "3142   0.605  10.0   75.466   -8.009        0.965   0.2420   \n",
      "3143   0.358   8.0  147.193  -16.633        0.975   0.2860   \n",
      "3144   0.870   3.0  174.308  -11.494        0.816   0.0939   \n",
      "3145   0.689   8.0  174.760  -10.843        0.948   0.0770   \n",
      "3146   0.591   8.0  170.938   -3.815        0.853   0.3170   \n",
      "\n",
      "                                       track_album_name  \n",
      "3142               Bhaja Govindam - Vishnu Sahasranamam  \n",
      "3143                           Veenai Jayanthi Kumaresh  \n",
      "3144                                      Into the Raga  \n",
      "3145         Thillanas: A Confluence Of Rhythm & Melody  \n",
      "3146  Gems of Carnatic Music: Sudha Raghunathan (Liv...  \n",
      "\n",
      "[5 rows x 29 columns]\n"
     ]
    }
   ],
   "source": [
    "\n",
    "print(df.tail())"
   ]
  },
  {
   "cell_type": "code",
   "execution_count": 68,
   "metadata": {},
   "outputs": [
    {
     "name": "stdout",
     "output_type": "stream",
     "text": [
      "(3147, 29)\n",
      "<class 'pandas.core.frame.DataFrame'>\n",
      "RangeIndex: 3147 entries, 0 to 3146\n",
      "Data columns (total 29 columns):\n",
      " #   Column                    Non-Null Count  Dtype  \n",
      "---  ------                    --------------  -----  \n",
      " 0   time_signature            3146 non-null   object \n",
      " 1   track_popularity          3147 non-null   object \n",
      " 2   speechiness               3146 non-null   float64\n",
      " 3   danceability              3146 non-null   object \n",
      " 4   playlist_name             3147 non-null   object \n",
      " 5   track_artist              3147 non-null   object \n",
      " 6   duration_ms               3146 non-null   object \n",
      " 7   energy                    3146 non-null   object \n",
      " 8   playlist_genre            3147 non-null   object \n",
      " 9   playlist_subgenre         3147 non-null   object \n",
      " 10  track_href                3146 non-null   object \n",
      " 11  track_name                3146 non-null   object \n",
      " 12  mode                      3145 non-null   float64\n",
      " 13  uri                       3145 non-null   object \n",
      " 14  type                      3145 non-null   object \n",
      " 15  track_album_release_date  3146 non-null   object \n",
      " 16  analysis_url              3145 non-null   object \n",
      " 17  id                        3145 non-null   object \n",
      " 18  instrumentalness          3145 non-null   object \n",
      " 19  track_album_id            3144 non-null   object \n",
      " 20  playlist_id               3144 non-null   object \n",
      " 21  track_id                  3144 non-null   object \n",
      " 22  valence                   3143 non-null   float64\n",
      " 23  key                       3143 non-null   float64\n",
      " 24  tempo                     3143 non-null   float64\n",
      " 25  loudness                  3143 non-null   float64\n",
      " 26  acousticness              3143 non-null   float64\n",
      " 27  liveness                  3143 non-null   float64\n",
      " 28  track_album_name          3144 non-null   object \n",
      "dtypes: float64(8), object(21)\n",
      "memory usage: 713.1+ KB\n",
      "None\n"
     ]
    }
   ],
   "source": [
    "\n",
    "print(df.shape)\n",
    "print(df.info())"
   ]
  },
  {
   "cell_type": "code",
   "execution_count": 69,
   "metadata": {},
   "outputs": [
    {
     "name": "stdout",
     "output_type": "stream",
     "text": [
      "       speechiness         mode      valence          key        tempo  \\\n",
      "count  3146.000000  3145.000000  3143.000000  3143.000000  3143.000000   \n",
      "mean      0.102745     0.553192     0.458458     5.178810   116.779704   \n",
      "std       0.104182     0.497089     0.266180     3.564782    29.148173   \n",
      "min       0.021900     0.000000     0.029600     0.000000    48.232000   \n",
      "25%       0.038800     0.000000     0.232000     2.000000    94.893000   \n",
      "50%       0.055050     1.000000     0.462000     5.000000   116.054000   \n",
      "75%       0.118000     1.000000     0.673000     8.000000   136.715000   \n",
      "max       1.000000     1.000000     0.987000    11.000000   241.426000   \n",
      "\n",
      "          loudness  acousticness     liveness  \n",
      "count  3143.000000   3143.000000  3143.000000  \n",
      "mean    -10.661804      0.405405     0.165479  \n",
      "std       8.155570      0.342184     0.124671  \n",
      "min     -48.069000      0.000004     0.022000  \n",
      "25%     -11.993500      0.084100     0.096400  \n",
      "50%      -8.021000      0.316000     0.116000  \n",
      "75%      -5.831000      0.725000     0.189000  \n",
      "max       1.318000      0.996000     0.979000  \n"
     ]
    }
   ],
   "source": [
    "print(df.describe())\n",
    "\n",
    "\n",
    "\n"
   ]
  },
  {
   "cell_type": "code",
   "execution_count": 70,
   "metadata": {},
   "outputs": [
    {
     "name": "stdout",
     "output_type": "stream",
     "text": [
      "time_signature              1\n",
      "track_popularity            0\n",
      "speechiness                 1\n",
      "danceability                1\n",
      "playlist_name               0\n",
      "track_artist                0\n",
      "duration_ms                 1\n",
      "energy                      1\n",
      "playlist_genre              0\n",
      "playlist_subgenre           0\n",
      "track_href                  1\n",
      "track_name                  1\n",
      "mode                        2\n",
      "uri                         2\n",
      "type                        2\n",
      "track_album_release_date    1\n",
      "analysis_url                2\n",
      "id                          2\n",
      "instrumentalness            2\n",
      "track_album_id              3\n",
      "playlist_id                 3\n",
      "track_id                    3\n",
      "valence                     4\n",
      "key                         4\n",
      "tempo                       4\n",
      "loudness                    4\n",
      "acousticness                4\n",
      "liveness                    4\n",
      "track_album_name            3\n",
      "dtype: int64\n"
     ]
    }
   ],
   "source": [
    "print(df.isnull().sum())"
   ]
  },
  {
   "cell_type": "code",
   "execution_count": 71,
   "metadata": {},
   "outputs": [
    {
     "data": {
      "text/plain": [
       "Series([], dtype: object)"
      ]
     },
     "execution_count": 71,
     "metadata": {},
     "output_type": "execute_result"
    }
   ],
   "source": [
    "pd.Series()"
   ]
  },
  {
   "cell_type": "markdown",
   "metadata": {},
   "source": [
    "import numpy as np"
   ]
  },
  {
   "cell_type": "code",
   "execution_count": 72,
   "metadata": {},
   "outputs": [],
   "source": [
    "import numpy as np \n",
    "pd.DataFrame(np.random.randn(3,3))\n",
    "data = pd.DataFrame({\n",
    "    'P': [1, 2, 3],\n",
    "    'R': [4, 5, 6]\n",
    "}, index=['Q', 'S', 'T'])"
   ]
  },
  {
   "cell_type": "code",
   "execution_count": 73,
   "metadata": {},
   "outputs": [
    {
     "data": {
      "text/html": [
       "<div>\n",
       "<style scoped>\n",
       "    .dataframe tbody tr th:only-of-type {\n",
       "        vertical-align: middle;\n",
       "    }\n",
       "\n",
       "    .dataframe tbody tr th {\n",
       "        vertical-align: top;\n",
       "    }\n",
       "\n",
       "    .dataframe thead th {\n",
       "        text-align: right;\n",
       "    }\n",
       "</style>\n",
       "<table border=\"1\" class=\"dataframe\">\n",
       "  <thead>\n",
       "    <tr style=\"text-align: right;\">\n",
       "      <th></th>\n",
       "      <th>P</th>\n",
       "      <th>Q</th>\n",
       "      <th>R</th>\n",
       "      <th>S</th>\n",
       "    </tr>\n",
       "  </thead>\n",
       "  <tbody>\n",
       "    <tr>\n",
       "      <th>B</th>\n",
       "      <td>0.002054</td>\n",
       "      <td>-0.633632</td>\n",
       "      <td>2.263292</td>\n",
       "      <td>-0.313117</td>\n",
       "    </tr>\n",
       "    <tr>\n",
       "      <th>C</th>\n",
       "      <td>-0.068522</td>\n",
       "      <td>-1.639587</td>\n",
       "      <td>-0.438664</td>\n",
       "      <td>0.815705</td>\n",
       "    </tr>\n",
       "    <tr>\n",
       "      <th>D</th>\n",
       "      <td>1.485948</td>\n",
       "      <td>-0.246487</td>\n",
       "      <td>-0.040361</td>\n",
       "      <td>0.251078</td>\n",
       "    </tr>\n",
       "    <tr>\n",
       "      <th>E</th>\n",
       "      <td>-2.714690</td>\n",
       "      <td>-0.544478</td>\n",
       "      <td>0.639128</td>\n",
       "      <td>-0.484271</td>\n",
       "    </tr>\n",
       "    <tr>\n",
       "      <th>F</th>\n",
       "      <td>-0.445859</td>\n",
       "      <td>-0.620510</td>\n",
       "      <td>-1.394769</td>\n",
       "      <td>-0.995027</td>\n",
       "    </tr>\n",
       "  </tbody>\n",
       "</table>\n",
       "</div>"
      ],
      "text/plain": [
       "          P         Q         R         S\n",
       "B  0.002054 -0.633632  2.263292 -0.313117\n",
       "C -0.068522 -1.639587 -0.438664  0.815705\n",
       "D  1.485948 -0.246487 -0.040361  0.251078\n",
       "E -2.714690 -0.544478  0.639128 -0.484271\n",
       "F -0.445859 -0.620510 -1.394769 -0.995027"
      ]
     },
     "execution_count": 73,
     "metadata": {},
     "output_type": "execute_result"
    }
   ],
   "source": [
    "data=pd.DataFrame(np.random.randn(5,4),['B','C','D','E','F'],['P','Q','R','S'])\n",
    "data"
   ]
  },
  {
   "cell_type": "code",
   "execution_count": 74,
   "metadata": {},
   "outputs": [
    {
     "data": {
      "text/plain": [
       "pandas.core.series.Series"
      ]
     },
     "execution_count": 74,
     "metadata": {},
     "output_type": "execute_result"
    }
   ],
   "source": [
    "data.shape\n",
    "type(data['R'])"
   ]
  },
  {
   "cell_type": "code",
   "execution_count": 75,
   "metadata": {},
   "outputs": [
    {
     "data": {
      "text/plain": [
       "pandas.core.frame.DataFrame"
      ]
     },
     "execution_count": 75,
     "metadata": {},
     "output_type": "execute_result"
    }
   ],
   "source": [
    "type(data[['P','Q','S']])"
   ]
  },
  {
   "cell_type": "code",
   "execution_count": 76,
   "metadata": {},
   "outputs": [
    {
     "name": "stdout",
     "output_type": "stream",
     "text": [
      "Index(['B', 'C', 'D', 'E', 'F'], dtype='object')\n",
      "Index(['P', 'Q', 'R', 'S'], dtype='object')\n"
     ]
    }
   ],
   "source": [
    "print(data.index)  \n",
    "print(data.columns)  \n"
   ]
  },
  {
   "cell_type": "code",
   "execution_count": 77,
   "metadata": {},
   "outputs": [],
   "source": [
    "import matplotlib.pyplot as plt\n",
    "import seaborn as sns"
   ]
  },
  {
   "cell_type": "code",
   "execution_count": null,
   "metadata": {},
   "outputs": [
    {
     "data": {
      "image/png": "[encoded data removed]",
      "text/plain": [
       "<Figure size 500x300 with 1 Axes>"
      ]
     },
     "metadata": {},
     "output_type": "display_data"
    }
   ],
   "source": [
    "x = np.linspace(0, 10, 100)\n",
    "y1 = np.sin(x)\n",
    "y2 = np.cos(x)\n",
    "plt.figure(figsize=(5, 3))\n",
    "plt.plot(x, y1, label='Sine Wave', color='b', linestyle='-')\n",
    "plt.plot(x, y2, label='Cosine Wave', color='r', linestyle='--')\n",
    "plt.xlabel('X Axis')\n",
    "plt.ylabel('Y Axis')\n",
    "plt.title('Line plot')\n",
    "plt.legend()\n",
    "plt.grid(True)\n",
    "plt.show()"
   ]
  },
  {
   "cell_type": "code",
   "execution_count": 142,
   "metadata": {},
   "outputs": [
    {
     "data": {
      "image/png": "[encoded data removed]",
      "text/plain": [
       "<Figure size 400x300 with 1 Axes>"
      ]
     },
     "metadata": {},
     "output_type": "display_data"
    }
   ],
   "source": [
    "data = ['P', 'Q', 'R', 'S']\n",
    "val = [2, 4, 6, 3]\n",
    "plt.figure(figsize=(4, 3))\n",
    "plt.bar(data, val, color=['Yellow', 'green', 'blue', 'purple'])\n",
    "plt.show()"
   ]
  },
  {
   "cell_type": "code",
   "execution_count": 146,
   "metadata": {},
   "outputs": [
    {
     "data": {
      "image/png": "[encoded data removed]",
      "text/plain": [
       "<Figure size 500x400 with 1 Axes>"
      ]
     },
     "metadata": {},
     "output_type": "display_data"
    }
   ],
   "source": [
    "x_scatter = np.random.rand(50)\n",
    "y_scatter = np.random.rand(50)\n",
    "plt.figure(figsize=(5, 4))\n",
    "plt.scatter(x_scatter, y_scatter, color='green', edgecolor='white')\n",
    "plt.title(\"Scatter Plot\")\n",
    "plt.xlabel(\"X Values\")\n",
    "plt.ylabel(\"Y Values\")\n",
    "plt.show()"
   ]
  },
  {
   "cell_type": "code",
   "execution_count": 156,
   "metadata": {},
   "outputs": [
    {
     "data": {
      "image/png": "[encoded data removed]",
      "text/plain": [
       "<Figure size 300x300 with 1 Axes>"
      ]
     },
     "metadata": {},
     "output_type": "display_data"
    }
   ],
   "source": [
    "data = np.random.randn(65)\n",
    "plt.figure(figsize=(3, 3))\n",
    "plt.hist(data, bins=10, color='red', edgecolor='black')\n",
    "plt.title(\"Histogram \")\n",
    "plt.show()"
   ]
  }
 ],
 "metadata": {
  "kernelspec": {
   "display_name": "Python 3",
   "language": "python",
   "name": "python3"
  },
  "language_info": {
   "codemirror_mode": {
    "name": "ipython",
    "version": 3
   },
   "file_extension": ".py",
   "mimetype": "text/x-python",
   "name": "python",
   "nbconvert_exporter": "python",
   "pygments_lexer": "ipython3",
   "version": "3.11.1"
  }
 },
 "nbformat": 4,
 "nbformat_minor": 2
}
