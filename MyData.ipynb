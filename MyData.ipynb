{
 "cells": [
  {
   "cell_type": "code",
   "execution_count": 257,
   "metadata": {},
   "outputs": [
    {
     "name": "stdout",
     "output_type": "stream",
     "text": [
      "      time_signature  track_popularity  speechiness  danceability  \\\n",
      "0                4.0                23       0.0393         0.636   \n",
      "1                4.0                53       0.0317         0.572   \n",
      "2                4.0                55       0.0454         0.591   \n",
      "3                4.0                64       0.1010         0.443   \n",
      "4                4.0                62       0.0298         0.685   \n",
      "...              ...               ...          ...           ...   \n",
      "3140             1.0                33       0.0634         0.352   \n",
      "3141             4.0                22       0.0656         0.471   \n",
      "3142             4.0                18       0.0671         0.436   \n",
      "3143             1.0                23       0.0813         0.489   \n",
      "3144             4.0                14       0.0598         0.270   \n",
      "\n",
      "          playlist_name                                       track_artist  \\\n",
      "0         Rock Classics                       Creedence Clearwater Revival   \n",
      "1         Rock Classics                                          Van Halen   \n",
      "2         Rock Classics                                       Stevie Nicks   \n",
      "3         Jazz Classics                   Ella Fitzgerald, Louis Armstrong   \n",
      "4         Jazz Classics                                     Galt MacDermot   \n",
      "...                 ...                                                ...   \n",
      "3140  Carnatic Classics                                 M. S. Subbulakshmi   \n",
      "3141  Carnatic Classics                                  Jayanthi Kumaresh   \n",
      "3142  Carnatic Classics  Nirmala Rajasekar, Raghavendra Rao, Tanjore K....   \n",
      "3143  Carnatic Classics                                  Ganesh & Kumaresh   \n",
      "3144  Carnatic Classics                                   Sudha Ragunathan   \n",
      "\n",
      "      duration_ms  energy playlist_genre playlist_subgenre  ...  \\\n",
      "0        138053.0   0.746           rock           classic  ...   \n",
      "1        241600.0   0.835           rock           classic  ...   \n",
      "2        329413.0   0.804           rock           classic  ...   \n",
      "3        185160.0   0.104           jazz           classic  ...   \n",
      "4        205720.0   0.472           jazz           classic  ...   \n",
      "...           ...     ...            ...               ...  ...   \n",
      "3140     661293.0   0.424         indian         classical  ...   \n",
      "3141     394400.0   0.349         indian         classical  ...   \n",
      "3142     473440.0   0.595         indian         classical  ...   \n",
      "3143     298987.0   0.591         indian         classical  ...   \n",
      "3144     645701.0   0.816         indian         classical  ...   \n",
      "\n",
      "              track_album_id             playlist_id                track_id  \\\n",
      "0     4A8gFwqd9jTtnsNwUu3OQx  37i9dQZF1DWXRqgorJj26U  5e6x5YRnMJIKvYpZxLqdpH   \n",
      "1     2c965LEDRNrXXCeBOAAwns  37i9dQZF1DWXRqgorJj26U  5FqYA8KfiwsQvyBI4IamnY   \n",
      "2     3S404OgKoVQSJ3xXrDVlp8  37i9dQZF1DWXRqgorJj26U  5LNiqEqpDc8TuqPy79kDBu   \n",
      "3     1y5KGkUKO0NG32MhIIagCA  37i9dQZF1DXbITWG1ZJKYt  78MI7mu1LV1k4IA2HzKmHe   \n",
      "4     6f4b9wVTkKAf096k4XG6x5  37i9dQZF1DXbITWG1ZJKYt  6MN6yRVriszuyAVlyF8ndB   \n",
      "...                      ...                     ...                     ...   \n",
      "3140  5utDQUWCZCEXWHMmna8C63  3sIB6VOssssCO17VUPu80m  1IkR0OgVI1gydC4S6jnG2B   \n",
      "3141  4kUGwkHXKBbaLwnqTIrg0J  3sIB6VOssssCO17VUPu80m  4ZFM5yFsjEzvZ1XmP27L5r   \n",
      "3142  6FMROVG9PB4nJYmvNLTdge  3sIB6VOssssCO17VUPu80m  5wZQXUcphAyBZfVdWmAiYX   \n",
      "3143  3si4Lr5oBcahJ3D7IPbO4N  3sIB6VOssssCO17VUPu80m  5Ca5l5vDzIOZdVwwWCxAds   \n",
      "3144  2tezom8oCCpSeiriOFeZNi  3sIB6VOssssCO17VUPu80m  0HmenrANrrNVi8244GsYB5   \n",
      "\n",
      "     valence   key    tempo loudness acousticness  liveness  \\\n",
      "0      0.432   0.0  132.310   -3.785       0.0648    0.1730   \n",
      "1      0.795   0.0  129.981   -6.219       0.1710    0.0702   \n",
      "2      0.658   0.0  111.457   -7.299       0.3270    0.0818   \n",
      "3      0.394   0.0   76.474  -17.042       0.9130    0.1910   \n",
      "4      0.475   9.0   80.487   -9.691       0.7850    0.2240   \n",
      "...      ...   ...      ...      ...          ...       ...   \n",
      "3140   0.605  10.0   75.466   -8.009       0.9650    0.2420   \n",
      "3141   0.358   8.0  147.193  -16.633       0.9750    0.2860   \n",
      "3142   0.870   3.0  174.308  -11.494       0.8160    0.0939   \n",
      "3143   0.689   8.0  174.760  -10.843       0.9480    0.0770   \n",
      "3144   0.591   8.0  170.938   -3.815       0.8530    0.3170   \n",
      "\n",
      "                                       track_album_name  \n",
      "0     The Long Road Home - The Ultimate John Fogerty...  \n",
      "1                                        The Collection  \n",
      "2                          Bella Donna (Deluxe Edition)  \n",
      "3                                            Love, Ella  \n",
      "4                     Shapes of Rhythm/Woman Is Sweeter  \n",
      "...                                                 ...  \n",
      "3140               Bhaja Govindam - Vishnu Sahasranamam  \n",
      "3141                           Veenai Jayanthi Kumaresh  \n",
      "3142                                      Into the Raga  \n",
      "3143         Thillanas: A Confluence Of Rhythm & Melody  \n",
      "3144  Gems of Carnatic Music: Sudha Raghunathan (Liv...  \n",
      "\n",
      "[3145 rows x 29 columns]\n",
      "   time_signature  track_popularity  speechiness  danceability  playlist_name  \\\n",
      "0             4.0                23       0.0393         0.636  Rock Classics   \n",
      "1             4.0                53       0.0317         0.572  Rock Classics   \n",
      "2             4.0                55       0.0454         0.591  Rock Classics   \n",
      "3             4.0                64       0.1010         0.443  Jazz Classics   \n",
      "4             4.0                62       0.0298         0.685  Jazz Classics   \n",
      "\n",
      "                       track_artist  duration_ms  energy playlist_genre  \\\n",
      "0      Creedence Clearwater Revival     138053.0   0.746           rock   \n",
      "1                         Van Halen     241600.0   0.835           rock   \n",
      "2                      Stevie Nicks     329413.0   0.804           rock   \n",
      "3  Ella Fitzgerald, Louis Armstrong     185160.0   0.104           jazz   \n",
      "4                    Galt MacDermot     205720.0   0.472           jazz   \n",
      "\n",
      "  playlist_subgenre  ...          track_album_id             playlist_id  \\\n",
      "0           classic  ...  4A8gFwqd9jTtnsNwUu3OQx  37i9dQZF1DWXRqgorJj26U   \n",
      "1           classic  ...  2c965LEDRNrXXCeBOAAwns  37i9dQZF1DWXRqgorJj26U   \n",
      "2           classic  ...  3S404OgKoVQSJ3xXrDVlp8  37i9dQZF1DWXRqgorJj26U   \n",
      "3           classic  ...  1y5KGkUKO0NG32MhIIagCA  37i9dQZF1DXbITWG1ZJKYt   \n",
      "4           classic  ...  6f4b9wVTkKAf096k4XG6x5  37i9dQZF1DXbITWG1ZJKYt   \n",
      "\n",
      "                 track_id valence  key    tempo loudness acousticness  \\\n",
      "0  5e6x5YRnMJIKvYpZxLqdpH   0.432  0.0  132.310   -3.785       0.0648   \n",
      "1  5FqYA8KfiwsQvyBI4IamnY   0.795  0.0  129.981   -6.219       0.1710   \n",
      "2  5LNiqEqpDc8TuqPy79kDBu   0.658  0.0  111.457   -7.299       0.3270   \n",
      "3  78MI7mu1LV1k4IA2HzKmHe   0.394  0.0   76.474  -17.042       0.9130   \n",
      "4  6MN6yRVriszuyAVlyF8ndB   0.475  9.0   80.487   -9.691       0.7850   \n",
      "\n",
      "   liveness                                   track_album_name  \n",
      "0    0.1730  The Long Road Home - The Ultimate John Fogerty...  \n",
      "1    0.0702                                     The Collection  \n",
      "2    0.0818                       Bella Donna (Deluxe Edition)  \n",
      "3    0.1910                                         Love, Ella  \n",
      "4    0.2240                  Shapes of Rhythm/Woman Is Sweeter  \n",
      "\n",
      "[5 rows x 29 columns]\n"
     ]
    }
   ],
   "source": [
    "import pandas as pd\n",
    "df = pd.read_csv(r\"F:\\Downloads\\archive\\low_popularity_spotify_data.csv\")\n",
    "print(df)\n",
    "print(df.head())"
   ]
  },
  {
   "cell_type": "markdown",
   "metadata": {},
   "source": []
  },
  {
   "cell_type": "code",
   "execution_count": 258,
   "metadata": {},
   "outputs": [
    {
     "name": "stdout",
     "output_type": "stream",
     "text": [
      "   time_signature  track_popularity  speechiness  danceability  playlist_name  \\\n",
      "0             4.0                23       0.0393         0.636  Rock Classics   \n",
      "1             4.0                53       0.0317         0.572  Rock Classics   \n",
      "2             4.0                55       0.0454         0.591  Rock Classics   \n",
      "3             4.0                64       0.1010         0.443  Jazz Classics   \n",
      "4             4.0                62       0.0298         0.685  Jazz Classics   \n",
      "\n",
      "                       track_artist  duration_ms  energy playlist_genre  \\\n",
      "0      Creedence Clearwater Revival     138053.0   0.746           rock   \n",
      "1                         Van Halen     241600.0   0.835           rock   \n",
      "2                      Stevie Nicks     329413.0   0.804           rock   \n",
      "3  Ella Fitzgerald, Louis Armstrong     185160.0   0.104           jazz   \n",
      "4                    Galt MacDermot     205720.0   0.472           jazz   \n",
      "\n",
      "  playlist_subgenre  ...          track_album_id             playlist_id  \\\n",
      "0           classic  ...  4A8gFwqd9jTtnsNwUu3OQx  37i9dQZF1DWXRqgorJj26U   \n",
      "1           classic  ...  2c965LEDRNrXXCeBOAAwns  37i9dQZF1DWXRqgorJj26U   \n",
      "2           classic  ...  3S404OgKoVQSJ3xXrDVlp8  37i9dQZF1DWXRqgorJj26U   \n",
      "3           classic  ...  1y5KGkUKO0NG32MhIIagCA  37i9dQZF1DXbITWG1ZJKYt   \n",
      "4           classic  ...  6f4b9wVTkKAf096k4XG6x5  37i9dQZF1DXbITWG1ZJKYt   \n",
      "\n",
      "                 track_id valence  key    tempo loudness acousticness  \\\n",
      "0  5e6x5YRnMJIKvYpZxLqdpH   0.432  0.0  132.310   -3.785       0.0648   \n",
      "1  5FqYA8KfiwsQvyBI4IamnY   0.795  0.0  129.981   -6.219       0.1710   \n",
      "2  5LNiqEqpDc8TuqPy79kDBu   0.658  0.0  111.457   -7.299       0.3270   \n",
      "3  78MI7mu1LV1k4IA2HzKmHe   0.394  0.0   76.474  -17.042       0.9130   \n",
      "4  6MN6yRVriszuyAVlyF8ndB   0.475  9.0   80.487   -9.691       0.7850   \n",
      "\n",
      "   liveness                                   track_album_name  \n",
      "0    0.1730  The Long Road Home - The Ultimate John Fogerty...  \n",
      "1    0.0702                                     The Collection  \n",
      "2    0.0818                       Bella Donna (Deluxe Edition)  \n",
      "3    0.1910                                         Love, Ella  \n",
      "4    0.2240                  Shapes of Rhythm/Woman Is Sweeter  \n",
      "\n",
      "[5 rows x 29 columns]\n"
     ]
    }
   ],
   "source": [
    "\n",
    "\n",
    "print(df.head())\n"
   ]
  },
  {
   "cell_type": "markdown",
   "metadata": {},
   "source": []
  },
  {
   "cell_type": "code",
   "execution_count": 259,
   "metadata": {},
   "outputs": [
    {
     "name": "stdout",
     "output_type": "stream",
     "text": [
      "   time_signature  track_popularity  speechiness  danceability  playlist_name  \\\n",
      "0             4.0                23       0.0393         0.636  Rock Classics   \n",
      "1             4.0                53       0.0317         0.572  Rock Classics   \n",
      "2             4.0                55       0.0454         0.591  Rock Classics   \n",
      "3             4.0                64       0.1010         0.443  Jazz Classics   \n",
      "4             4.0                62       0.0298         0.685  Jazz Classics   \n",
      "5             4.0                61       0.0566         0.670  Jazz Classics   \n",
      "6             4.0                60       0.0914         0.663  Jazz Classics   \n",
      "7             4.0                55       0.0373         0.525  Jazz Classics   \n",
      "8             4.0                54       0.0363         0.336  Jazz Classics   \n",
      "9             4.0                53       0.0407         0.742  Jazz Classics   \n",
      "\n",
      "                       track_artist  duration_ms  energy playlist_genre  \\\n",
      "0      Creedence Clearwater Revival     138053.0  0.7460           rock   \n",
      "1                         Van Halen     241600.0  0.8350           rock   \n",
      "2                      Stevie Nicks     329413.0  0.8040           rock   \n",
      "3  Ella Fitzgerald, Louis Armstrong     185160.0  0.1040           jazz   \n",
      "4                    Galt MacDermot     205720.0  0.4720           jazz   \n",
      "5        Frank Sinatra, Count Basie     147147.0  0.3650           jazz   \n",
      "6  Ella Fitzgerald, Louis Armstrong     354533.0  0.2640           jazz   \n",
      "7                     Benny Goodman     195533.0  0.2220           jazz   \n",
      "8                      Kenny Dorham     190400.0  0.0619           jazz   \n",
      "9                     Horace Silver     438280.0  0.6710           jazz   \n",
      "\n",
      "  playlist_subgenre  ...          track_album_id             playlist_id  \\\n",
      "0           classic  ...  4A8gFwqd9jTtnsNwUu3OQx  37i9dQZF1DWXRqgorJj26U   \n",
      "1           classic  ...  2c965LEDRNrXXCeBOAAwns  37i9dQZF1DWXRqgorJj26U   \n",
      "2           classic  ...  3S404OgKoVQSJ3xXrDVlp8  37i9dQZF1DWXRqgorJj26U   \n",
      "3           classic  ...  1y5KGkUKO0NG32MhIIagCA  37i9dQZF1DXbITWG1ZJKYt   \n",
      "4           classic  ...  6f4b9wVTkKAf096k4XG6x5  37i9dQZF1DXbITWG1ZJKYt   \n",
      "5           classic  ...  7gmak9ZGm10y4PtZa9SBQn  37i9dQZF1DXbITWG1ZJKYt   \n",
      "6           classic  ...  2uqlkJu6vckJahCsp6Hfcn  37i9dQZF1DXbITWG1ZJKYt   \n",
      "7           classic  ...  33oCBSZiLbfqyOnTTQ4Tct  37i9dQZF1DXbITWG1ZJKYt   \n",
      "8           classic  ...  4B0pF1WLB3pCaZ4eTx5U8S  37i9dQZF1DXbITWG1ZJKYt   \n",
      "9           classic  ...  4LEnATSqKeANOJ0mLUAuCE  37i9dQZF1DXbITWG1ZJKYt   \n",
      "\n",
      "                 track_id valence   key    tempo loudness acousticness  \\\n",
      "0  5e6x5YRnMJIKvYpZxLqdpH   0.432   0.0  132.310   -3.785       0.0648   \n",
      "1  5FqYA8KfiwsQvyBI4IamnY   0.795   0.0  129.981   -6.219       0.1710   \n",
      "2  5LNiqEqpDc8TuqPy79kDBu   0.658   0.0  111.457   -7.299       0.3270   \n",
      "3  78MI7mu1LV1k4IA2HzKmHe   0.394   0.0   76.474  -17.042       0.9130   \n",
      "4  6MN6yRVriszuyAVlyF8ndB   0.475   9.0   80.487   -9.691       0.7850   \n",
      "5  2dR5WkrpwylTuT3jRWNufa   0.450   0.0  119.347  -10.158       0.5250   \n",
      "6  33jt3kYWjQzqn3xyYQ5ZEh   0.657   0.0  122.482  -14.571       0.7060   \n",
      "7  1xUJ1mdLAysxNBtO9w3J2g   0.645  10.0  156.364  -11.065       0.8360   \n",
      "8  3GOZbK2epuHzCt5YvvVFHO   0.197   5.0   60.705  -20.494       0.9850   \n",
      "9  1CDBaGlisZlOJzvx88lL8A   0.591   5.0  127.359   -8.142       0.7940   \n",
      "\n",
      "   liveness                                   track_album_name  \n",
      "0    0.1730  The Long Road Home - The Ultimate John Fogerty...  \n",
      "1    0.0702                                     The Collection  \n",
      "2    0.0818                       Bella Donna (Deluxe Edition)  \n",
      "3    0.1910                                         Love, Ella  \n",
      "4    0.2240                  Shapes of Rhythm/Woman Is Sweeter  \n",
      "5    0.0575                                   Ultimate Sinatra  \n",
      "6    0.1000               The Complete Ella And Louis On Verve  \n",
      "7    0.0510                                     B. G. In Hi Fi  \n",
      "8    0.1100                                        Quiet Kenny  \n",
      "9    0.1220                                 Song For My Father  \n",
      "\n",
      "[10 rows x 29 columns]\n"
     ]
    }
   ],
   "source": [
    "print(df.head(10))"
   ]
  },
  {
   "cell_type": "code",
   "execution_count": 260,
   "metadata": {},
   "outputs": [
    {
     "name": "stdout",
     "output_type": "stream",
     "text": [
      "      time_signature  track_popularity  speechiness  danceability  \\\n",
      "3140             1.0                33       0.0634         0.352   \n",
      "3141             4.0                22       0.0656         0.471   \n",
      "3142             4.0                18       0.0671         0.436   \n",
      "3143             1.0                23       0.0813         0.489   \n",
      "3144             4.0                14       0.0598         0.270   \n",
      "\n",
      "          playlist_name                                       track_artist  \\\n",
      "3140  Carnatic Classics                                 M. S. Subbulakshmi   \n",
      "3141  Carnatic Classics                                  Jayanthi Kumaresh   \n",
      "3142  Carnatic Classics  Nirmala Rajasekar, Raghavendra Rao, Tanjore K....   \n",
      "3143  Carnatic Classics                                  Ganesh & Kumaresh   \n",
      "3144  Carnatic Classics                                   Sudha Ragunathan   \n",
      "\n",
      "      duration_ms  energy playlist_genre playlist_subgenre  ...  \\\n",
      "3140     661293.0   0.424         indian         classical  ...   \n",
      "3141     394400.0   0.349         indian         classical  ...   \n",
      "3142     473440.0   0.595         indian         classical  ...   \n",
      "3143     298987.0   0.591         indian         classical  ...   \n",
      "3144     645701.0   0.816         indian         classical  ...   \n",
      "\n",
      "              track_album_id             playlist_id                track_id  \\\n",
      "3140  5utDQUWCZCEXWHMmna8C63  3sIB6VOssssCO17VUPu80m  1IkR0OgVI1gydC4S6jnG2B   \n",
      "3141  4kUGwkHXKBbaLwnqTIrg0J  3sIB6VOssssCO17VUPu80m  4ZFM5yFsjEzvZ1XmP27L5r   \n",
      "3142  6FMROVG9PB4nJYmvNLTdge  3sIB6VOssssCO17VUPu80m  5wZQXUcphAyBZfVdWmAiYX   \n",
      "3143  3si4Lr5oBcahJ3D7IPbO4N  3sIB6VOssssCO17VUPu80m  5Ca5l5vDzIOZdVwwWCxAds   \n",
      "3144  2tezom8oCCpSeiriOFeZNi  3sIB6VOssssCO17VUPu80m  0HmenrANrrNVi8244GsYB5   \n",
      "\n",
      "     valence   key    tempo loudness acousticness  liveness  \\\n",
      "3140   0.605  10.0   75.466   -8.009        0.965    0.2420   \n",
      "3141   0.358   8.0  147.193  -16.633        0.975    0.2860   \n",
      "3142   0.870   3.0  174.308  -11.494        0.816    0.0939   \n",
      "3143   0.689   8.0  174.760  -10.843        0.948    0.0770   \n",
      "3144   0.591   8.0  170.938   -3.815        0.853    0.3170   \n",
      "\n",
      "                                       track_album_name  \n",
      "3140               Bhaja Govindam - Vishnu Sahasranamam  \n",
      "3141                           Veenai Jayanthi Kumaresh  \n",
      "3142                                      Into the Raga  \n",
      "3143         Thillanas: A Confluence Of Rhythm & Melody  \n",
      "3144  Gems of Carnatic Music: Sudha Raghunathan (Liv...  \n",
      "\n",
      "[5 rows x 29 columns]\n"
     ]
    }
   ],
   "source": [
    "\n",
    "print(df.tail())"
   ]
  },
  {
   "cell_type": "code",
   "execution_count": 261,
   "metadata": {},
   "outputs": [
    {
     "name": "stdout",
     "output_type": "stream",
     "text": [
      "(3145, 29)\n",
      "<class 'pandas.core.frame.DataFrame'>\n",
      "RangeIndex: 3145 entries, 0 to 3144\n",
      "Data columns (total 29 columns):\n",
      " #   Column                    Non-Null Count  Dtype  \n",
      "---  ------                    --------------  -----  \n",
      " 0   time_signature            3144 non-null   float64\n",
      " 1   track_popularity          3145 non-null   int64  \n",
      " 2   speechiness               3144 non-null   float64\n",
      " 3   danceability              3144 non-null   float64\n",
      " 4   playlist_name             3145 non-null   object \n",
      " 5   track_artist              3145 non-null   object \n",
      " 6   duration_ms               3144 non-null   float64\n",
      " 7   energy                    3144 non-null   float64\n",
      " 8   playlist_genre            3145 non-null   object \n",
      " 9   playlist_subgenre         3145 non-null   object \n",
      " 10  track_href                3144 non-null   object \n",
      " 11  track_name                3145 non-null   object \n",
      " 12  mode                      3144 non-null   float64\n",
      " 13  uri                       3144 non-null   object \n",
      " 14  type                      3144 non-null   object \n",
      " 15  track_album_release_date  3145 non-null   object \n",
      " 16  analysis_url              3144 non-null   object \n",
      " 17  id                        3144 non-null   object \n",
      " 18  instrumentalness          3144 non-null   float64\n",
      " 19  track_album_id            3145 non-null   object \n",
      " 20  playlist_id               3145 non-null   object \n",
      " 21  track_id                  3145 non-null   object \n",
      " 22  valence                   3144 non-null   float64\n",
      " 23  key                       3144 non-null   float64\n",
      " 24  tempo                     3144 non-null   float64\n",
      " 25  loudness                  3144 non-null   float64\n",
      " 26  acousticness              3144 non-null   float64\n",
      " 27  liveness                  3144 non-null   float64\n",
      " 28  track_album_name          3145 non-null   object \n",
      "dtypes: float64(13), int64(1), object(15)\n",
      "memory usage: 712.7+ KB\n",
      "None\n"
     ]
    }
   ],
   "source": [
    "\n",
    "print(df.shape)\n",
    "print(df.info())"
   ]
  },
  {
   "cell_type": "code",
   "execution_count": 262,
   "metadata": {},
   "outputs": [
    {
     "name": "stdout",
     "output_type": "stream",
     "text": [
      "       time_signature  track_popularity  speechiness  danceability  \\\n",
      "count     3144.000000       3145.000000  3144.000000   3144.000000   \n",
      "mean         3.929389         43.479173     0.102174      0.607268   \n",
      "std          0.447827         14.821766     0.101726      0.200372   \n",
      "min          1.000000         11.000000     0.021900      0.058900   \n",
      "25%          4.000000         32.000000     0.038800      0.509000   \n",
      "50%          4.000000         46.000000     0.055000      0.649500   \n",
      "75%          4.000000         55.000000     0.118000      0.753000   \n",
      "max          5.000000         68.000000     0.927000      0.977000   \n",
      "\n",
      "        duration_ms       energy         mode  instrumentalness      valence  \\\n",
      "count  3.144000e+03  3144.000000  3144.000000       3144.000000  3144.000000   \n",
      "mean   2.016402e+05     0.543509     0.553435          0.286603     0.458438   \n",
      "std    9.157390e+04     0.263635     0.497216          0.395181     0.266140   \n",
      "min    3.537500e+04     0.000202     0.000000          0.000000     0.029600   \n",
      "25%    1.518962e+05     0.357750     0.000000          0.000000     0.232000   \n",
      "50%    1.846410e+05     0.592000     1.000000          0.001060     0.462000   \n",
      "75%    2.264302e+05     0.747000     1.000000          0.788000     0.673000   \n",
      "max    1.355260e+06     0.998000     1.000000          0.991000     0.987000   \n",
      "\n",
      "               key        tempo     loudness  acousticness     liveness  \n",
      "count  3144.000000  3144.000000  3144.000000   3144.000000  3144.000000  \n",
      "mean      5.177163   116.766884   -10.663833      0.405567     0.165487  \n",
      "std       3.565412    29.152400     8.155066      0.342249     0.124652  \n",
      "min       0.000000    48.232000   -48.069000      0.000004     0.022000  \n",
      "25%       2.000000    94.889250   -11.999750      0.084100     0.096400  \n",
      "50%       5.000000   116.052000    -8.026000      0.316000     0.116000  \n",
      "75%       8.000000   136.706500    -5.831000      0.725250     0.189000  \n",
      "max      11.000000   241.426000     1.318000      0.996000     0.979000  \n"
     ]
    }
   ],
   "source": [
    "print(df.describe())\n",
    "\n",
    "\n",
    "\n"
   ]
  },
  {
   "cell_type": "code",
   "execution_count": 263,
   "metadata": {},
   "outputs": [
    {
     "name": "stdout",
     "output_type": "stream",
     "text": [
      "time_signature              1\n",
      "track_popularity            0\n",
      "speechiness                 1\n",
      "danceability                1\n",
      "playlist_name               0\n",
      "track_artist                0\n",
      "duration_ms                 1\n",
      "energy                      1\n",
      "playlist_genre              0\n",
      "playlist_subgenre           0\n",
      "track_href                  1\n",
      "track_name                  0\n",
      "mode                        1\n",
      "uri                         1\n",
      "type                        1\n",
      "track_album_release_date    0\n",
      "analysis_url                1\n",
      "id                          1\n",
      "instrumentalness            1\n",
      "track_album_id              0\n",
      "playlist_id                 0\n",
      "track_id                    0\n",
      "valence                     1\n",
      "key                         1\n",
      "tempo                       1\n",
      "loudness                    1\n",
      "acousticness                1\n",
      "liveness                    1\n",
      "track_album_name            0\n",
      "dtype: int64\n"
     ]
    }
   ],
   "source": [
    "print(df.isnull().sum())"
   ]
  },
  {
   "cell_type": "code",
   "execution_count": 264,
   "metadata": {},
   "outputs": [
    {
     "data": {
      "text/plain": [
       "Series([], dtype: object)"
      ]
     },
     "execution_count": 264,
     "metadata": {},
     "output_type": "execute_result"
    }
   ],
   "source": [
    "pd.Series()"
   ]
  },
  {
   "cell_type": "markdown",
   "metadata": {},
   "source": [
    "import numpy as np"
   ]
  },
  {
   "cell_type": "code",
   "execution_count": 265,
   "metadata": {},
   "outputs": [],
   "source": [
    "import numpy as np \n",
    "pd.DataFrame(np.random.randn(3,3))\n",
    "data = pd.DataFrame({\n",
    "    'P': [1, 2, 3],\n",
    "    'R': [4, 5, 6]\n",
    "}, index=['Q', 'S', 'T'])"
   ]
  },
  {
   "cell_type": "code",
   "execution_count": 266,
   "metadata": {},
   "outputs": [
    {
     "data": {
      "text/html": [
       "<div>\n",
       "<style scoped>\n",
       "    .dataframe tbody tr th:only-of-type {\n",
       "        vertical-align: middle;\n",
       "    }\n",
       "\n",
       "    .dataframe tbody tr th {\n",
       "        vertical-align: top;\n",
       "    }\n",
       "\n",
       "    .dataframe thead th {\n",
       "        text-align: right;\n",
       "    }\n",
       "</style>\n",
       "<table border=\"1\" class=\"dataframe\">\n",
       "  <thead>\n",
       "    <tr style=\"text-align: right;\">\n",
       "      <th></th>\n",
       "      <th>P</th>\n",
       "      <th>Q</th>\n",
       "      <th>R</th>\n",
       "      <th>S</th>\n",
       "    </tr>\n",
       "  </thead>\n",
       "  <tbody>\n",
       "    <tr>\n",
       "      <th>B</th>\n",
       "      <td>-0.001447</td>\n",
       "      <td>0.370796</td>\n",
       "      <td>1.372135</td>\n",
       "      <td>-0.246811</td>\n",
       "    </tr>\n",
       "    <tr>\n",
       "      <th>C</th>\n",
       "      <td>1.022450</td>\n",
       "      <td>0.138826</td>\n",
       "      <td>0.617399</td>\n",
       "      <td>0.406459</td>\n",
       "    </tr>\n",
       "    <tr>\n",
       "      <th>D</th>\n",
       "      <td>1.221515</td>\n",
       "      <td>-0.210857</td>\n",
       "      <td>-1.764698</td>\n",
       "      <td>0.444988</td>\n",
       "    </tr>\n",
       "    <tr>\n",
       "      <th>E</th>\n",
       "      <td>0.458416</td>\n",
       "      <td>-1.233698</td>\n",
       "      <td>-0.815471</td>\n",
       "      <td>0.572378</td>\n",
       "    </tr>\n",
       "    <tr>\n",
       "      <th>F</th>\n",
       "      <td>-1.015858</td>\n",
       "      <td>-0.244372</td>\n",
       "      <td>0.627637</td>\n",
       "      <td>0.073011</td>\n",
       "    </tr>\n",
       "  </tbody>\n",
       "</table>\n",
       "</div>"
      ],
      "text/plain": [
       "          P         Q         R         S\n",
       "B -0.001447  0.370796  1.372135 -0.246811\n",
       "C  1.022450  0.138826  0.617399  0.406459\n",
       "D  1.221515 -0.210857 -1.764698  0.444988\n",
       "E  0.458416 -1.233698 -0.815471  0.572378\n",
       "F -1.015858 -0.244372  0.627637  0.073011"
      ]
     },
     "execution_count": 266,
     "metadata": {},
     "output_type": "execute_result"
    }
   ],
   "source": [
    "data=pd.DataFrame(np.random.randn(5,4),['B','C','D','E','F'],['P','Q','R','S'])\n",
    "data"
   ]
  },
  {
   "cell_type": "code",
   "execution_count": 267,
   "metadata": {},
   "outputs": [
    {
     "data": {
      "text/plain": [
       "pandas.core.series.Series"
      ]
     },
     "execution_count": 267,
     "metadata": {},
     "output_type": "execute_result"
    }
   ],
   "source": [
    "data.shape\n",
    "type(data['R'])"
   ]
  },
  {
   "cell_type": "code",
   "execution_count": 268,
   "metadata": {},
   "outputs": [
    {
     "data": {
      "text/plain": [
       "pandas.core.frame.DataFrame"
      ]
     },
     "execution_count": 268,
     "metadata": {},
     "output_type": "execute_result"
    }
   ],
   "source": [
    "type(data[['P','Q','S']])"
   ]
  },
  {
   "cell_type": "code",
   "execution_count": 269,
   "metadata": {},
   "outputs": [
    {
     "name": "stdout",
     "output_type": "stream",
     "text": [
      "Index(['B', 'C', 'D', 'E', 'F'], dtype='object')\n",
      "Index(['P', 'Q', 'R', 'S'], dtype='object')\n"
     ]
    }
   ],
   "source": [
    "print(data.index)  \n",
    "print(data.columns)  \n"
   ]
  },
  {
   "cell_type": "code",
   "execution_count": 270,
   "metadata": {},
   "outputs": [
    {
     "ename": "KeyError",
     "evalue": "'Q'",
     "output_type": "error",
     "traceback": [
      "\u001b[1;31m---------------------------------------------------------------------------\u001b[0m",
      "\u001b[1;31mKeyError\u001b[0m                                  Traceback (most recent call last)",
      "File \u001b[1;32mc:\\Users\\Purva Datir\\AppData\\Local\\Programs\\Python\\Python311\\Lib\\site-packages\\pandas\\core\\indexes\\base.py:3805\u001b[0m, in \u001b[0;36mIndex.get_loc\u001b[1;34m(self, key)\u001b[0m\n\u001b[0;32m   3804\u001b[0m \u001b[38;5;28;01mtry\u001b[39;00m:\n\u001b[1;32m-> 3805\u001b[0m     \u001b[38;5;28;01mreturn\u001b[39;00m \u001b[38;5;28;43mself\u001b[39;49m\u001b[38;5;241;43m.\u001b[39;49m\u001b[43m_engine\u001b[49m\u001b[38;5;241;43m.\u001b[39;49m\u001b[43mget_loc\u001b[49m\u001b[43m(\u001b[49m\u001b[43mcasted_key\u001b[49m\u001b[43m)\u001b[49m\n\u001b[0;32m   3806\u001b[0m \u001b[38;5;28;01mexcept\u001b[39;00m \u001b[38;5;167;01mKeyError\u001b[39;00m \u001b[38;5;28;01mas\u001b[39;00m err:\n",
      "File \u001b[1;32mindex.pyx:167\u001b[0m, in \u001b[0;36mpandas._libs.index.IndexEngine.get_loc\u001b[1;34m()\u001b[0m\n",
      "File \u001b[1;32mindex.pyx:196\u001b[0m, in \u001b[0;36mpandas._libs.index.IndexEngine.get_loc\u001b[1;34m()\u001b[0m\n",
      "File \u001b[1;32mpandas\\\\_libs\\\\hashtable_class_helper.pxi:7081\u001b[0m, in \u001b[0;36mpandas._libs.hashtable.PyObjectHashTable.get_item\u001b[1;34m()\u001b[0m\n",
      "File \u001b[1;32mpandas\\\\_libs\\\\hashtable_class_helper.pxi:7089\u001b[0m, in \u001b[0;36mpandas._libs.hashtable.PyObjectHashTable.get_item\u001b[1;34m()\u001b[0m\n",
      "\u001b[1;31mKeyError\u001b[0m: 'Q'",
      "\nThe above exception was the direct cause of the following exception:\n",
      "\u001b[1;31mKeyError\u001b[0m                                  Traceback (most recent call last)",
      "Cell \u001b[1;32mIn[270], line 1\u001b[0m\n\u001b[1;32m----> 1\u001b[0m value \u001b[38;5;241m=\u001b[39m \u001b[43mdata\u001b[49m\u001b[38;5;241;43m.\u001b[39;49m\u001b[43mloc\u001b[49m\u001b[43m[\u001b[49m\u001b[38;5;124;43m'\u001b[39;49m\u001b[38;5;124;43mQ\u001b[39;49m\u001b[38;5;124;43m'\u001b[39;49m\u001b[43m,\u001b[49m\u001b[43m \u001b[49m\u001b[38;5;124;43m'\u001b[39;49m\u001b[38;5;124;43mR\u001b[39;49m\u001b[38;5;124;43m'\u001b[39;49m\u001b[43m]\u001b[49m\n\u001b[0;32m      2\u001b[0m \u001b[38;5;28mprint\u001b[39m(\u001b[38;5;124m\"\u001b[39m\u001b[38;5;124mValue at (\u001b[39m\u001b[38;5;124m'\u001b[39m\u001b[38;5;124mQ\u001b[39m\u001b[38;5;124m'\u001b[39m\u001b[38;5;124m, \u001b[39m\u001b[38;5;124m'\u001b[39m\u001b[38;5;124mR\u001b[39m\u001b[38;5;124m'\u001b[39m\u001b[38;5;124m):\u001b[39m\u001b[38;5;124m\"\u001b[39m, value)\n",
      "File \u001b[1;32mc:\\Users\\Purva Datir\\AppData\\Local\\Programs\\Python\\Python311\\Lib\\site-packages\\pandas\\core\\indexing.py:1183\u001b[0m, in \u001b[0;36m_LocationIndexer.__getitem__\u001b[1;34m(self, key)\u001b[0m\n\u001b[0;32m   1181\u001b[0m     key \u001b[38;5;241m=\u001b[39m \u001b[38;5;28mtuple\u001b[39m(com\u001b[38;5;241m.\u001b[39mapply_if_callable(x, \u001b[38;5;28mself\u001b[39m\u001b[38;5;241m.\u001b[39mobj) \u001b[38;5;28;01mfor\u001b[39;00m x \u001b[38;5;129;01min\u001b[39;00m key)\n\u001b[0;32m   1182\u001b[0m     \u001b[38;5;28;01mif\u001b[39;00m \u001b[38;5;28mself\u001b[39m\u001b[38;5;241m.\u001b[39m_is_scalar_access(key):\n\u001b[1;32m-> 1183\u001b[0m         \u001b[38;5;28;01mreturn\u001b[39;00m \u001b[38;5;28;43mself\u001b[39;49m\u001b[38;5;241;43m.\u001b[39;49m\u001b[43mobj\u001b[49m\u001b[38;5;241;43m.\u001b[39;49m\u001b[43m_get_value\u001b[49m\u001b[43m(\u001b[49m\u001b[38;5;241;43m*\u001b[39;49m\u001b[43mkey\u001b[49m\u001b[43m,\u001b[49m\u001b[43m \u001b[49m\u001b[43mtakeable\u001b[49m\u001b[38;5;241;43m=\u001b[39;49m\u001b[38;5;28;43mself\u001b[39;49m\u001b[38;5;241;43m.\u001b[39;49m\u001b[43m_takeable\u001b[49m\u001b[43m)\u001b[49m\n\u001b[0;32m   1184\u001b[0m     \u001b[38;5;28;01mreturn\u001b[39;00m \u001b[38;5;28mself\u001b[39m\u001b[38;5;241m.\u001b[39m_getitem_tuple(key)\n\u001b[0;32m   1185\u001b[0m \u001b[38;5;28;01melse\u001b[39;00m:\n\u001b[0;32m   1186\u001b[0m     \u001b[38;5;66;03m# we by definition only have the 0th axis\u001b[39;00m\n",
      "File \u001b[1;32mc:\\Users\\Purva Datir\\AppData\\Local\\Programs\\Python\\Python311\\Lib\\site-packages\\pandas\\core\\frame.py:4221\u001b[0m, in \u001b[0;36mDataFrame._get_value\u001b[1;34m(self, index, col, takeable)\u001b[0m\n\u001b[0;32m   4215\u001b[0m engine \u001b[38;5;241m=\u001b[39m \u001b[38;5;28mself\u001b[39m\u001b[38;5;241m.\u001b[39mindex\u001b[38;5;241m.\u001b[39m_engine\n\u001b[0;32m   4217\u001b[0m \u001b[38;5;28;01mif\u001b[39;00m \u001b[38;5;129;01mnot\u001b[39;00m \u001b[38;5;28misinstance\u001b[39m(\u001b[38;5;28mself\u001b[39m\u001b[38;5;241m.\u001b[39mindex, MultiIndex):\n\u001b[0;32m   4218\u001b[0m     \u001b[38;5;66;03m# CategoricalIndex: Trying to use the engine fastpath may give incorrect\u001b[39;00m\n\u001b[0;32m   4219\u001b[0m     \u001b[38;5;66;03m#  results if our categories are integers that dont match our codes\u001b[39;00m\n\u001b[0;32m   4220\u001b[0m     \u001b[38;5;66;03m# IntervalIndex: IntervalTree has no get_loc\u001b[39;00m\n\u001b[1;32m-> 4221\u001b[0m     row \u001b[38;5;241m=\u001b[39m \u001b[38;5;28;43mself\u001b[39;49m\u001b[38;5;241;43m.\u001b[39;49m\u001b[43mindex\u001b[49m\u001b[38;5;241;43m.\u001b[39;49m\u001b[43mget_loc\u001b[49m\u001b[43m(\u001b[49m\u001b[43mindex\u001b[49m\u001b[43m)\u001b[49m\n\u001b[0;32m   4222\u001b[0m     \u001b[38;5;28;01mreturn\u001b[39;00m series\u001b[38;5;241m.\u001b[39m_values[row]\n\u001b[0;32m   4224\u001b[0m \u001b[38;5;66;03m# For MultiIndex going through engine effectively restricts us to\u001b[39;00m\n\u001b[0;32m   4225\u001b[0m \u001b[38;5;66;03m#  same-length tuples; see test_get_set_value_no_partial_indexing\u001b[39;00m\n",
      "File \u001b[1;32mc:\\Users\\Purva Datir\\AppData\\Local\\Programs\\Python\\Python311\\Lib\\site-packages\\pandas\\core\\indexes\\base.py:3812\u001b[0m, in \u001b[0;36mIndex.get_loc\u001b[1;34m(self, key)\u001b[0m\n\u001b[0;32m   3807\u001b[0m     \u001b[38;5;28;01mif\u001b[39;00m \u001b[38;5;28misinstance\u001b[39m(casted_key, \u001b[38;5;28mslice\u001b[39m) \u001b[38;5;129;01mor\u001b[39;00m (\n\u001b[0;32m   3808\u001b[0m         \u001b[38;5;28misinstance\u001b[39m(casted_key, abc\u001b[38;5;241m.\u001b[39mIterable)\n\u001b[0;32m   3809\u001b[0m         \u001b[38;5;129;01mand\u001b[39;00m \u001b[38;5;28many\u001b[39m(\u001b[38;5;28misinstance\u001b[39m(x, \u001b[38;5;28mslice\u001b[39m) \u001b[38;5;28;01mfor\u001b[39;00m x \u001b[38;5;129;01min\u001b[39;00m casted_key)\n\u001b[0;32m   3810\u001b[0m     ):\n\u001b[0;32m   3811\u001b[0m         \u001b[38;5;28;01mraise\u001b[39;00m InvalidIndexError(key)\n\u001b[1;32m-> 3812\u001b[0m     \u001b[38;5;28;01mraise\u001b[39;00m \u001b[38;5;167;01mKeyError\u001b[39;00m(key) \u001b[38;5;28;01mfrom\u001b[39;00m\u001b[38;5;250m \u001b[39m\u001b[38;5;21;01merr\u001b[39;00m\n\u001b[0;32m   3813\u001b[0m \u001b[38;5;28;01mexcept\u001b[39;00m \u001b[38;5;167;01mTypeError\u001b[39;00m:\n\u001b[0;32m   3814\u001b[0m     \u001b[38;5;66;03m# If we have a listlike key, _check_indexing_error will raise\u001b[39;00m\n\u001b[0;32m   3815\u001b[0m     \u001b[38;5;66;03m#  InvalidIndexError. Otherwise we fall through and re-raise\u001b[39;00m\n\u001b[0;32m   3816\u001b[0m     \u001b[38;5;66;03m#  the TypeError.\u001b[39;00m\n\u001b[0;32m   3817\u001b[0m     \u001b[38;5;28mself\u001b[39m\u001b[38;5;241m.\u001b[39m_check_indexing_error(key)\n",
      "\u001b[1;31mKeyError\u001b[0m: 'Q'"
     ]
    }
   ],
   "source": []
  }
 ],
 "metadata": {
  "kernelspec": {
   "display_name": "Python 3",
   "language": "python",
   "name": "python3"
  },
  "language_info": {
   "codemirror_mode": {
    "name": "ipython",
    "version": 3
   },
   "file_extension": ".py",
   "mimetype": "text/x-python",
   "name": "python",
   "nbconvert_exporter": "python",
   "pygments_lexer": "ipython3",
   "version": "3.11.1"
  }
 },
 "nbformat": 4,
 "nbformat_minor": 2
}
